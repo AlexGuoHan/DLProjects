{
 "cells": [
  {
   "cell_type": "code",
   "execution_count": 3,
   "metadata": {
    "collapsed": true
   },
   "outputs": [],
   "source": [
    "i = 0"
   ]
  },
  {
   "cell_type": "code",
   "execution_count": 7,
   "metadata": {},
   "outputs": [],
   "source": [
    "i += 1\n",
    "with tf.variable_scope('debug_%d'%i, reuse=None):\n",
    "    model = SAaT(n_time_steps=16, \n",
    "                 loss_reg_coef=1.0,\n",
    "                 word_to_idx=test_data['word_to_idx'],\n",
    "                 wordvec_emb_dim=512,\n",
    "                 features_dim=[196, 512], \n",
    "                 hidden_dim=1024)\n",
    "    logits = model.build_model()\n"
   ]
  },
  {
   "cell_type": "code",
   "execution_count": null,
   "metadata": {
    "collapsed": true
   },
   "outputs": [],
   "source": []
  },
  {
   "cell_type": "code",
   "execution_count": 8,
   "metadata": {},
   "outputs": [
    {
     "data": {
      "text/plain": [
       "<tf.Tensor 'debug_3/logits/add_1:0' shape=(?, 23110) dtype=float32>"
      ]
     },
     "execution_count": 8,
     "metadata": {},
     "output_type": "execute_result"
    }
   ],
   "source": [
    "logits"
   ]
  },
  {
   "cell_type": "code",
   "execution_count": 11,
   "metadata": {
    "scrolled": false
   },
   "outputs": [],
   "source": [
    "sess = tf.Session()\n",
    "tf.global_variables_initializer().run(session=sess)\n",
    "l = logits.eval(session=sess, feed_dict={model.captions: test_data['captions'],\n",
    "                                model.features: test_data['features']})"
   ]
  },
  {
   "cell_type": "code",
   "execution_count": 14,
   "metadata": {},
   "outputs": [
    {
     "data": {
      "text/plain": [
       "355428"
      ]
     },
     "execution_count": 14,
     "metadata": {},
     "output_type": "execute_result"
    }
   ],
   "source": [
    "tf.arg_max"
   ]
  },
  {
   "cell_type": "code",
   "execution_count": null,
   "metadata": {},
   "outputs": [],
   "source": []
  },
  {
   "cell_type": "code",
   "execution_count": null,
   "metadata": {},
   "outputs": [],
   "source": []
  },
  {
   "cell_type": "code",
   "execution_count": null,
   "metadata": {},
   "outputs": [],
   "source": []
  },
  {
   "cell_type": "code",
   "execution_count": null,
   "metadata": {},
   "outputs": [],
   "source": []
  },
  {
   "cell_type": "code",
   "execution_count": null,
   "metadata": {
    "collapsed": true
   },
   "outputs": [],
   "source": []
  },
  {
   "cell_type": "code",
   "execution_count": 1,
   "metadata": {
    "collapsed": true
   },
   "outputs": [],
   "source": [
    "import tensorflow as tf\n",
    "class SAaT(object):\n",
    "    def __init__(self,\n",
    "                 n_time_steps, \n",
    "                 loss_reg_coef,\n",
    "                 word_to_idx,\n",
    "                 wordvec_emb_dim,\n",
    "                 features_dim, \n",
    "                 hidden_dim):\n",
    "        \n",
    "        self.n_time_steps = n_time_steps\n",
    "        self.loss_reg_coef = loss_reg_coef\n",
    "        \n",
    "        # word dictionary\n",
    "        self.word_to_idx = word_to_idx\n",
    "        self.vocab_size = len(word_to_idx)\n",
    "        \n",
    "        # similar to original's dim_emb\n",
    "        self.wordvec_emb_dim = wordvec_emb_dim\n",
    "        \n",
    "        # feature dimensions\n",
    "        self.features_dim = features_dim\n",
    "        self.hidden_dim = hidden_dim\n",
    "        \n",
    "        # placeholders for captions and features\n",
    "        self.captions = tf.placeholder(tf.int32, [None, n_time_steps + 1])\n",
    "        self.features = tf.placeholder(tf.float32, [None, features_dim[0], features_dim[1]])\n",
    "        \n",
    "        # initializers\n",
    "        self.weight_initializer = tf.contrib.layers.xavier_initializer()\n",
    "        self.bias_initializer = tf.constant_initializer(0.0)\n",
    "\n",
    "    \n",
    "    def build_model(self):\n",
    "        # processing data\n",
    "        captions = self.captions\n",
    "        features = self.features\n",
    "        batch_size = tf.shape(features)[0]\n",
    "        captions_clipped = self.captions[:, :self.n_time_steps]\n",
    "        # initial LSTM state\n",
    "        c,h = self._get_initial_lstm(self.features)\n",
    "\n",
    "        state = tf.contrib.rnn.LSTMStateTuple(c, h)\n",
    "\n",
    "        word_embs = self._get_word_embedding(captions_clipped)\n",
    "        # word_embs = [n_captions, n_time_steps, word_embeddings]\n",
    "\n",
    "        # build models\n",
    "        loss = 0.0\n",
    "        alphas = []\n",
    "        betas = []\n",
    "        LSTM = tf.contrib.rnn.LayerNormBasicLSTMCell(self.hidden_dim,\n",
    "                                                     dropout_keep_prob=0.5,\n",
    "                                                     dropout_prob_seed=0)\n",
    "    \n",
    "        # truncated backprop\n",
    "        for tstep in range(self.n_time_steps):\n",
    "            context, alpha, beta = self._get_attention_layer(h, features, reuse=(tstep is not 0))\n",
    "            # context = [n_features, features_dim[1]]\n",
    "            # alpha = [n_features, 1, 1]\n",
    "            # beta = [n_features, 1]\n",
    "            alphas.append(alpha)\n",
    "            betas.append(beta)\n",
    "            \n",
    "            lstm_input_word = tf.concat([word_embs[:, tstep, :], context], axis=1)\n",
    "            \n",
    "            # run the LSTM    \n",
    "            with tf.variable_scope('lstm', reuse=(tstep is not 0)):\n",
    "                # each LSTM gate takes input [h_last, context, Ey]\n",
    "                # the dimension of word vectors = [n_examples, n_words_in_example, word_emb_dim]\n",
    "                # each step we feed in a word in a sentence\n",
    "                output, state = LSTM(lstm_input_word, state=state)\n",
    "                [c, h] = [state.c, state.h]\n",
    "                \n",
    "            # LSTM creates an output at each step, hence the loss\n",
    "            logits = self._get_logits(h, reuse=(tstep is not 0))\n",
    "            return logits\n",
    "            loss += self._get_loss(logits=logits, \n",
    "                                   labels_gt=captions_clipped[:,tstep], \n",
    "                                   alphas=alphas, \n",
    "                                   reg_coef=self.loss_reg_coef,\n",
    "                                   reuse=(tstep is not 0))\n",
    "\n",
    "        return loss / tf.to_float(batch_size)\n",
    "                \n",
    "        \n",
    "        \n",
    "    def _get_initial_lstm(self, features):\n",
    "        # annotation mean\n",
    "        features_mean = tf.reduce_mean(features, axis=1)\n",
    "\n",
    "        weight_dim = [self.features_dim[1], self.hidden_dim]\n",
    "        bias_dim = [self.hidden_dim]\n",
    "        with tf.variable_scope('lstm_initial'):\n",
    "            with tf.variable_scope('cell_state'):\n",
    "                w = tf.get_variable('w', weight_dim, initializer=self.weight_initializer)\n",
    "                b = tf.get_variable('b', bias_dim, initializer=self.bias_initializer)\n",
    "                _c = tf.matmul(features_mean, w) + b\n",
    "                c = tf.nn.tanh(_c)\n",
    "            with tf.variable_scope('hidden_state'):\n",
    "                w = tf.get_variable('w', weight_dim, initializer=self.weight_initializer)\n",
    "                b = tf.get_variable('b', bias_dim, initializer=self.bias_initializer)\n",
    "                _h = tf.matmul(features_mean, w) + b\n",
    "                h = tf.nn.tanh(_h) \n",
    "            \n",
    "        return c, h\n",
    "    \n",
    "    def _get_word_embedding(self, word_idx, reuse=False):\n",
    "        word_vecs_dim = len(self.word_to_idx)\n",
    "        weight_dim = [self.vocab_size, self.wordvec_emb_dim]\n",
    "        emb_weight_initializer = tf.random_uniform_initializer(minval=-1.0, maxval=1.0)\n",
    "        \n",
    "        with tf.variable_scope('word_embedding', reuse=reuse):\n",
    "            w = tf.get_variable('w', weight_dim, initializer=emb_weight_initializer)\n",
    "            word_vecs = tf.nn.embedding_lookup(w, word_idx, name='word_vector')\n",
    "        \n",
    "        return word_vecs\n",
    "    \n",
    "    \n",
    "    def _get_attention_layer(self, h, features, reuse):\n",
    "        # z = beta * sum(alpha * annotation)\n",
    "        beta_weight_dim = [self.hidden_dim, 1]\n",
    "        beta_bias_dim = [1]\n",
    "        alpha_weight_dim_1 = [self.hidden_dim, self.features_dim[1]]\n",
    "        alpha_weight_dim_2 = [self.features_dim[1], 1]\n",
    "        alpha_bias_dim_1 = self.features_dim[1]\n",
    "        with tf.variable_scope('attention', reuse=reuse):\n",
    "            with tf.variable_scope('beta'):\n",
    "                w = tf.get_variable('w', beta_weight_dim, initializer=self.weight_initializer)\n",
    "                b = tf.get_variable('b', beta_bias_dim, initializer=self.bias_initializer)\n",
    "                _beta = tf.matmul(h, w) + b\n",
    "                beta = tf.nn.sigmoid(_beta, name='beta')\n",
    "            with tf.variable_scope('alpha'):\n",
    "                we1 = tf.get_variable('w_e_1', alpha_weight_dim_1, initializer=self.weight_initializer)\n",
    "                we2 = tf.get_variable('w_e_2', alpha_weight_dim_2, initializer=self.weight_initializer)\n",
    "                be1 = tf.get_variable('b_e_1', alpha_bias_dim_1, initializer=self.bias_initializer)\n",
    "                _he1 = tf.matmul(h, we1) + be1\n",
    "                he1 = tf.nn.relu(_he1)\n",
    "                _he2 = tf.matmul(he1, we2)\n",
    "                he2 = tf.nn.relu(_he2)\n",
    "\n",
    "                alpha = tf.nn.softmax(he2, name='alpha')\n",
    "\n",
    "            # z is the context vector\n",
    "            # alpha shape = [-1, 1] ---expand---> [-1, 1, 1]\n",
    "            alpha = tf.expand_dims(alpha, axis=2)\n",
    "            context = tf.reduce_sum(features * alpha, axis=1, name='context')\n",
    "            context = tf.multiply(beta, context)\n",
    "\n",
    "        return context, alpha, beta\n",
    "        \n",
    "    def _get_logits(self, h, reuse):\n",
    "        logits_weight_dim_1 = [self.hidden_dim, self.wordvec_emb_dim]\n",
    "        logits_weight_dim_2 = [self.wordvec_emb_dim, self.vocab_size]\n",
    "        logits_bias_dim_1 = [self.wordvec_emb_dim]\n",
    "        logits_bias_dim_2 = [self.vocab_size]\n",
    "        with tf.variable_scope('logits', reuse=reuse):\n",
    "            w_1 = tf.get_variable('w_1', logits_weight_dim_1, initializer=self.weight_initializer)\n",
    "            w_2 = tf.get_variable('w_2', logits_weight_dim_2, initializer=self.weight_initializer)\n",
    "            b_1 = tf.get_variable('b_1', logits_bias_dim_1, initializer=self.bias_initializer)\n",
    "            b_2 = tf.get_variable('b_2', logits_bias_dim_2, initializer=self.bias_initializer)\n",
    "            \n",
    "            _logits = tf.matmul(h, w_1) + b_1\n",
    "            _logits = tf.nn.tanh(_logits)\n",
    "            logits = tf.matmul(_logits, w_2) + b_2\n",
    "            \n",
    "        return logits\n",
    "            \n",
    "        \n",
    "    def _get_loss(self, \n",
    "                  logits, labels_gt, \n",
    "                  alphas, reg_coef,\n",
    "                  reuse):\n",
    "        # loss = cross entropy (NLL) + regularization\n",
    "        with tf.variable_scope('loss', reuse=reuse):\n",
    "            ce = tf.nn.sparse_softmax_cross_entropy_with_logits(logits=logits,labels=labels_gt, name='ce')\n",
    "            nll = tf.reduce_sum(ce, name='nll')\n",
    "            alphas_total = tf.reduce_sum(alphas, name='alpha_total')\n",
    "            reg = reg_coef * tf.reduce_sum((16./196 - alphas_total) ** 2, name='reg_loss')\n",
    "            \n",
    "            loss = nll + reg\n",
    "            \n",
    "        return loss\n",
    "    \n",
    "    def sample(self, num_samples):\n",
    "        features = self.features\n",
    "        c,h = self._get_initial_lstm(self.features)\n",
    "        state = tf.contrib.rnn.LSTMStateTuple(c, h)\n",
    "        \n",
    "        alphas = []\n",
    "        betas = []\n",
    "        sampled_words = []\n",
    "        \n",
    "        LSTM = tf.contrib.rnn.LayerNormBasicLSTMCell(self.hidden_dim,\n",
    "                                                     dropout_keep_prob=0.5,\n",
    "                                                     dropout_prob_seed=0)\n",
    "        for tstep in range(self.n_time_steps):\n",
    "            if tstep == 0:\n",
    "                # append with <start>\n",
    "                # remember to set dropout to test time mode\n",
    "                word_embs = self._word_embedding(inputs=tf.fill([tf.shape(features)[0]], self._start))\n",
    "            context, alpha, beta = self._get_attention_layer(h, features, reuse=(tstep is not 0))\n",
    "            # context = [n_features, features_dim[1]]\n",
    "            # alpha = [n_features, 1, 1]\n",
    "            # beta = [n_features, 1]\n",
    "            alphas.append(alpha)\n",
    "            betas.append(beta)\n",
    "            \n",
    "            lstm_input_word = tf.concat([word_embs[:, tstep, :], context], axis=1)\n",
    "            \n",
    "            # run the LSTM    \n",
    "            with tf.variable_scope('lstm', reuse=(tstep is not 0)):\n",
    "                # each LSTM gate takes input [h_last, context, Ey]\n",
    "                # the dimension of word vectors = [n_examples, n_words_in_example, word_emb_dim]\n",
    "                # each step we feed in a word in a sentence\n",
    "                output, state = LSTM(lstm_input_word, state=state)\n",
    "                [c, h] = [state.c, state.h]\n",
    "                \n",
    "            # LSTM creates an output at each step, hence the loss\n",
    "            logits = self._get_logits(h, reuse=(tstep is not 0))\n",
    "\n",
    "            loss += self._get_loss(logits=logits, \n",
    "                                   labels_gt=captions_clipped[:,tstep], \n",
    "                                   alphas=alphas, \n",
    "                                   reg_coef=self.loss_reg_coef,\n",
    "                                   reuse=(tstep is not 0))\n",
    "\n",
    "        return loss / tf.to_float(batch_size)\n",
    "        \n",
    "        \n",
    "        \n",
    "    "
   ]
  },
  {
   "cell_type": "code",
   "execution_count": 11,
   "metadata": {
    "collapsed": true
   },
   "outputs": [],
   "source": []
  },
  {
   "cell_type": "code",
   "execution_count": null,
   "metadata": {
    "collapsed": true
   },
   "outputs": [],
   "source": []
  },
  {
   "cell_type": "code",
   "execution_count": 195,
   "metadata": {},
   "outputs": [],
   "source": [
    "from utils import load_coco_data"
   ]
  },
  {
   "cell_type": "code",
   "execution_count": null,
   "metadata": {
    "collapsed": true
   },
   "outputs": [],
   "source": [
    "data = load_coco_data(data_dir=, split='test')\n",
    "word_to_idx = data['word_to_idx']\n",
    "# load val dataset to print out bleu scores every epoch\n",
    "val_data = load_coco_data(data_dir='./data', split='val')\n",
    "\n",
    "\n",
    "solver = CaptioningSolver(model, data, val_data, n_epochs=20, batch_size=128, update_rule='adam',\n",
    "                                          learning_rate=0.001, print_every=1000, save_every=1, image_path='./image/',\n",
    "                                    pretrained_model=None, model_path='model/lstm/', test_model='model/lstm/model-10',\n",
    "                                     print_bleu=True, log_path='log/')\n",
    "\n",
    "solver.train()"
   ]
  },
  {
   "cell_type": "markdown",
   "metadata": {},
   "source": [
    "## TRAIN"
   ]
  },
  {
   "cell_type": "code",
   "execution_count": 18,
   "metadata": {
    "collapsed": true
   },
   "outputs": [],
   "source": [
    "model_save_path = '/root/DLResearch/show-attend-and-tell/model/lstm'\n",
    "log_save_path = '/root/DLResearch/show-attend-and-tell/log'\n"
   ]
  },
  {
   "cell_type": "code",
   "execution_count": 33,
   "metadata": {
    "collapsed": true
   },
   "outputs": [],
   "source": [
    "#model = CaptionGenerator()\n",
    "def train(model, data, val_data,\n",
    "          log_path, model_path,\n",
    "          n_epochs=10, batch_size=64, \n",
    "          print_every=100, save_every=1):\n",
    "    \n",
    "    if not os.path.exists(model_path):\n",
    "        os.makedirs(model_path)\n",
    "    if not os.path.exists(log_path):\n",
    "        os.makedirs(log_path)\n",
    "        \n",
    "    # build model\n",
    "    loss = model.build_model()\n",
    "    tf.get_variable_scope().reuse()\n",
    "    _, _, generated_captions = self.model.build_model(max_len=20)\n",
    "\n",
    "    # get loss\n",
    "    global_step = tf.Variable(0 ,trainable=False, name='global_step')\n",
    "    optimizer = tf.train.AdamOptimizer()\n",
    "    grads_and_vars = optimizer.compute_gradients()\n",
    "    train_op = optimizer.apply_gradients(grads_and_vars, global_step)\n",
    "\n",
    "    # log\n",
    "    tf.summary.scalar('batch_loss', loss)\n",
    "    # [tf.summary.histogram(var.op.name, var) for var in tf.trainable_variables()]\n",
    "    [tf.summary.histogram(var.op.name + '/gradients', grad) for var,loss in grads_and_vars]\n",
    "    summary_op = tf.summary.merge_all()\n",
    "\n",
    "\n",
    "    print (\"The number of epoch: %d\" %self.n_epochs)\n",
    "    print (\"Data size: %d\" %n_examples)\n",
    "    print (\"Batch size: %d\" %self.batch_size)\n",
    "    print (\"Iterations per epoch: %d\" %n_iters_per_epoch)\n",
    "\n",
    "    # train\n",
    "    onfig = tf.ConfigProto(allow_soft_placement = True)\n",
    "    config.gpu_options.allow_growth = True\n",
    "    with tf.Session() as sess:\n",
    "        tf.global_variables_initializer().run()\n",
    "        summary_writer = tf.summary.FileWriter(logdir=log_save_path, graph=tf.get_default_graph())\n",
    "\n",
    "        prev_epoch_loss = -1\n",
    "        batches_per_epoch = data['captions'].shape[0] // batch_size + 1\n",
    "        iters_val_per_epoch = val_features.shape[0] // self.batch_size + 1\n",
    "        for epoch in n_epochs:\n",
    "            current_epoch_loss = 0\n",
    "            epoch_start_time = time.time()\n",
    "            for batch in range(batches_per_epoch):\n",
    "                # get the feed_dict\n",
    "                start_idx = batch * batch_size\n",
    "                end_idx = (batch+1) * batch_size\n",
    "                captions_batch = captions[start_idx:end_idx]\n",
    "                image_idxs_batch = image_idxs[start_idx:end_idx]\n",
    "                features_batch = features[start_idx:end_idx]\n",
    "                feed_dict = {model.features: features_batch,\n",
    "                            model.captions: captions_batch}\n",
    "                # run it\n",
    "                _, batch_loss = sess.run([train_op, loss], feed_dict=feed_dict)\n",
    "                current_epoch_loss += batch_loss\n",
    "                \n",
    "                # log it\n",
    "                if batch % 20 == 0:\n",
    "                    summary = sess.run(summary_op, feed_dict=feed_dict)\n",
    "                    summary_writer.add_summary(summary, global_step)\n",
    "                if (i+1) % print_every == 0:\n",
    "                    print (\"\\nTrain loss at epoch %d & iteration %d (mini-batch): %.5f\" %\n",
    "                           (epoch, batch, batch_loss))\n",
    "                    captions_gt = captions[1:10]\n",
    "                    captions_g = sess.run(generated_captions)\n",
    "            \n",
    "            print (\"Previous epoch loss: \", prev_epoch_loss)\n",
    "            print (\"Current epoch loss: \", current_epoch_loss)\n",
    "            print (\"Elapsed time: \", time.time() - epoch_start_time)\n",
    "            prev_epoch_loss = current_epoch_loss\n",
    "                \n",
    "            # copied from original implementation\n",
    "            all_gen_cap = np.ndarray((val_features.shape[0], 20))\n",
    "            for batch in range(iters_val_per_epoch):\n",
    "                start_idx = batch * batch_size\n",
    "                end_idx = (batch+1) * batch_size\n",
    "                features_batch = val_features[start_idx:end_idx]\n",
    "                feed_dict = {self.model.features: features_batch}\n",
    "                gen_cap = sess.run(generated_captions, feed_dict=feed_dict)  \n",
    "                all_gen_cap[start_idx:end_idx] = gen_cap\n",
    "\n",
    "            all_decoded = decode_captions(all_gen_cap, self.model.idx_to_word)\n",
    "            if not os.path.exists('./tmp/val/'):\n",
    "                os.makedirs('./tmp/val/')\n",
    "            save_pickle(all_decoded, \"./tmp/val/val.candidate.captions.pkl\")\n",
    "            scores = evaluate(data_path='./data', split='val', get_scores=True)\n",
    "            write_bleu(scores=scores, path=model_path, epoch=epoch)\n",
    "            \n",
    "            # save model\n",
    "            if (epoch+1) % save_every == 0:\n",
    "                saver.save(sess, os.path.join(model_path, 'model,ckpt'), global_step=global_step)"
   ]
  },
  {
   "cell_type": "code",
   "execution_count": null,
   "metadata": {
    "collapsed": true
   },
   "outputs": [],
   "source": []
  },
  {
   "cell_type": "code",
   "execution_count": null,
   "metadata": {
    "collapsed": true
   },
   "outputs": [],
   "source": []
  },
  {
   "cell_type": "code",
   "execution_count": null,
   "metadata": {
    "collapsed": true
   },
   "outputs": [],
   "source": []
  },
  {
   "cell_type": "markdown",
   "metadata": {
    "collapsed": true
   },
   "source": [
    "### TESTING THE CODE!!!"
   ]
  },
  {
   "cell_type": "code",
   "execution_count": 5,
   "metadata": {},
   "outputs": [],
   "source": [
    "import pickle\n",
    "test_data = {}\n",
    "with open('../show-attend-and-tell/__train.features.pkl', 'rb') as f:\n",
    "    test_data['features'] = pickle.load(f, encoding='latin1')\n",
    "with open('../show-attend-and-tell/data/train/train.captions.pkl', 'rb') as f:\n",
    "    test_captions = pickle.load(f, encoding='latin1')\n",
    "    # because the test_features are picked as [21, :]\n",
    "    test_data['captions'] = test_captions[:21,:]\n",
    "with open('../show-attend-and-tell/data/train/word_to_idx.pkl', 'rb') as f:\n",
    "    test_data['word_to_idx'] = pickle.load(f, encoding='latin1')\n",
    "with open('../show-attend-and-tell/data/train/train.file.names.pkl', 'rb') as f:\n",
    "    test_data['file_names'] = pickle.load(f, encoding='latin1')\n",
    "with open('../show-attend-and-tell/data/train/train.image.idxs.pkl', 'rb') as f:\n",
    "    test_data['image_idxs'] = pickle.load(f, encoding='latin1')"
   ]
  },
  {
   "cell_type": "code",
   "execution_count": 208,
   "metadata": {},
   "outputs": [
    {
     "name": "stdout",
     "output_type": "stream",
     "text": [
      "(21, 196, 512)\n",
      "(21, 17)\n",
      "23110\n",
      "(82783,)\n",
      "(399998,)\n"
     ]
    }
   ],
   "source": [
    "print(test_data['features'].shape)\n",
    "print(test_data['captions'].shape)\n",
    "print(len(test_data['word_to_idx']))\n",
    "print(test_data['file_names'].shape)\n",
    "print(test_data['image_idxs'].shape)"
   ]
  },
  {
   "cell_type": "code",
   "execution_count": null,
   "metadata": {
    "collapsed": true
   },
   "outputs": [],
   "source": []
  },
  {
   "cell_type": "code",
   "execution_count": null,
   "metadata": {},
   "outputs": [],
   "source": []
  },
  {
   "cell_type": "code",
   "execution_count": null,
   "metadata": {
    "collapsed": true
   },
   "outputs": [],
   "source": []
  }
 ],
 "metadata": {
  "kernelspec": {
   "display_name": "Python 3",
   "language": "python",
   "name": "python3"
  },
  "language_info": {
   "codemirror_mode": {
    "name": "ipython",
    "version": 3
   },
   "file_extension": ".py",
   "mimetype": "text/x-python",
   "name": "python",
   "nbconvert_exporter": "python",
   "pygments_lexer": "ipython3",
   "version": "3.5.2"
  }
 },
 "nbformat": 4,
 "nbformat_minor": 2
}
